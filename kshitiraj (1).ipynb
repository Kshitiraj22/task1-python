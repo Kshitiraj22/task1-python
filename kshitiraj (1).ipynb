{
 "cells": [
  {
   "cell_type": "markdown",
   "id": "0cc5d103",
   "metadata": {},
   "source": [
    "## MY task 1 (kshiti raj)"
   ]
  },
  {
   "cell_type": "code",
   "execution_count": 2,
   "id": "84430cf0",
   "metadata": {},
   "outputs": [
    {
     "name": "stdout",
     "output_type": "stream",
     "text": [
      "Hello, World!\n"
     ]
    }
   ],
   "source": [
    "#1. print hello,world!\n",
    "\n",
    "if __name__ == '__main__':\n",
    "    print(\"Hello, World!\")"
   ]
  },
  {
   "cell_type": "code",
   "execution_count": 6,
   "id": "dfb569ac",
   "metadata": {},
   "outputs": [
    {
     "name": "stdout",
     "output_type": "stream",
     "text": [
      "Input your desired number: 67\n",
      "Weird\n"
     ]
    }
   ],
   "source": [
    "#2. odd/even\n",
    "import math\n",
    "import os\n",
    "import random\n",
    "import re\n",
    "import sys\n",
    "\n",
    "if __name__ == '__main__':\n",
    "    # asking for the user input\n",
    "    n = int(input(\"Input your desired number: \").strip())\n",
    "    \n",
    "    # if inputs odd\n",
    "    if n%2 != 0:\n",
    "        print(\"Weird\")\n",
    "    # if inputs even\n",
    "    if n%2 == 0 and 2<=n<=5:\n",
    "        print(\"Not Weird\")\n",
    "    if n%2 == 0 and 6<=n<=20:\n",
    "        print(\"Weird\")\n",
    "    if n%2 == 0 and n>20:\n",
    "        print(\"Not Weird\")\n"
   ]
  },
  {
   "cell_type": "code",
   "execution_count": 7,
   "id": "f2116764",
   "metadata": {},
   "outputs": [
    {
     "name": "stdout",
     "output_type": "stream",
     "text": [
      "Enter your first number: 6\n",
      "Enter your second number: 10\n",
      "16\n",
      "-4\n",
      "60\n"
     ]
    }
   ],
   "source": [
    "#3. add,subract,multiply\n",
    "\n",
    "if __name__ == '__main__':\n",
    "    a = int(input(\"Enter your first number: \"))\n",
    "    b = int(input(\"Enter your second number: \"))\n",
    "    print(a+b)\n",
    "    print(a-b)\n",
    "    print(a*b)"
   ]
  },
  {
   "cell_type": "code",
   "execution_count": 8,
   "id": "98bd2c2b",
   "metadata": {},
   "outputs": [
    {
     "name": "stdout",
     "output_type": "stream",
     "text": [
      "Enter the digit here: 6\n",
      "Enter the digit here: 5\n",
      "1\n",
      "1.2\n"
     ]
    }
   ],
   "source": [
    "#4. integer division, floor division\n",
    "\n",
    "if __name__ == '__main__':\n",
    "    a = int(input(\"Enter the digit here: \"))\n",
    "    b = int(input(\"Enter the digit here: \"))\n",
    "    print(a//b)\n",
    "    print(a/b)"
   ]
  },
  {
   "cell_type": "code",
   "execution_count": 9,
   "id": "6fb2a5ba",
   "metadata": {},
   "outputs": [
    {
     "name": "stdout",
     "output_type": "stream",
     "text": [
      "Give the input: 9\n",
      "0\n",
      "1\n",
      "4\n",
      "9\n",
      "16\n",
      "25\n",
      "36\n",
      "49\n",
      "64\n"
     ]
    }
   ],
   "source": [
    "#5. squared list:\n",
    "\n",
    "if __name__ == '__main__':\n",
    "    n = int(input(\"Give the input: \"))\n",
    "    for i in range (0,n):\n",
    "        print(i*i)"
   ]
  },
  {
   "cell_type": "code",
   "execution_count": 18,
   "id": "46fce6a6",
   "metadata": {},
   "outputs": [
    {
     "name": "stdout",
     "output_type": "stream",
     "text": [
      "Enter the four digit year: 1900\n"
     ]
    },
    {
     "data": {
      "text/plain": [
       "False"
      ]
     },
     "execution_count": 18,
     "metadata": {},
     "output_type": "execute_result"
    }
   ],
   "source": [
    "#6. checking for leap year:\n",
    "\n",
    "def is_leap(year):\n",
    "    leap = False\n",
    "    \n",
    "    # if the year is divisile by 4 then:\n",
    "    if year%4 == 0:\n",
    "        #check if also by 100:\n",
    "        if year%100 == 0:\n",
    "            #further check for 400:\n",
    "            if year%400 == 0:\n",
    "                leap= True \n",
    "            else:\n",
    "                leap= False\n",
    "        else:\n",
    "            leap= True\n",
    "    else:\n",
    "        leap= False\n",
    "           \n",
    "    return leap\n",
    "year = int(input(\"Enter the four digit year: \"))\n",
    "is_leap(year)\n",
    "\n"
   ]
  },
  {
   "cell_type": "code",
   "execution_count": 20,
   "id": "778cb91e",
   "metadata": {},
   "outputs": [
    {
     "name": "stdout",
     "output_type": "stream",
     "text": [
      "Give your desiredd input: 7\n",
      "1234567"
     ]
    }
   ],
   "source": [
    "#7. string list:\n",
    "\n",
    "if __name__ == '__main__':\n",
    "    n = int(input(\"Give your desiredd input: \"))\n",
    "    for i in range (1,n+1):\n",
    "        print (str(i),end='')"
   ]
  },
  {
   "cell_type": "code",
   "execution_count": null,
   "id": "7ce03ef3",
   "metadata": {},
   "outputs": [],
   "source": []
  }
 ],
 "metadata": {
  "kernelspec": {
   "display_name": "Python 3 (ipykernel)",
   "language": "python",
   "name": "python3"
  },
  "language_info": {
   "codemirror_mode": {
    "name": "ipython",
    "version": 3
   },
   "file_extension": ".py",
   "mimetype": "text/x-python",
   "name": "python",
   "nbconvert_exporter": "python",
   "pygments_lexer": "ipython3",
   "version": "3.11.2"
  }
 },
 "nbformat": 4,
 "nbformat_minor": 5
}
